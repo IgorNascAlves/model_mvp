{
 "cells": [
  {
   "cell_type": "markdown",
   "metadata": {},
   "source": [
    "# Biblioteca"
   ]
  },
  {
   "cell_type": "code",
   "execution_count": 1,
   "metadata": {},
   "outputs": [],
   "source": [
    "import pandas as pd"
   ]
  },
  {
   "cell_type": "markdown",
   "metadata": {},
   "source": [
    "# Leitura de dados"
   ]
  },
  {
   "cell_type": "code",
   "execution_count": 19,
   "metadata": {},
   "outputs": [],
   "source": [
    "df = pd.read_csv('../data/raw/002_20_all_Q.csv')"
   ]
  },
  {
   "cell_type": "code",
   "execution_count": 20,
   "metadata": {},
   "outputs": [],
   "source": [
    "class tratamento_nomes_colunas:\n",
    "    def fit(self, X, y=None):\n",
    "        return self\n",
    "\n",
    "    def transform(self, X, y=None):\n",
    "        rename_columns = df.columns.to_series().apply(lambda x: x.replace('statistics.', '')).to_dict()\n",
    "        X_rename = df.rename(mapper=rename_columns, axis=1)\n",
    "        return X_rename\n",
    "\n"
   ]
  },
  {
   "cell_type": "code",
   "execution_count": 21,
   "metadata": {},
   "outputs": [],
   "source": [
    "df_rename = tratamento_nomes_colunas().transform(df)"
   ]
  },
  {
   "cell_type": "code",
   "execution_count": 30,
   "metadata": {},
   "outputs": [],
   "source": [
    "class descobre_vencedor:\n",
    "    def fit(self, X, y=None):\n",
    "        return self\n",
    "\n",
    "    def transform(self, X, y=None):\n",
    "        \n",
    "        df_rename_winner = X[['teamName', 'gameId', 'fieldGoalsMade']].groupby(by=['gameId', 'teamName'],\n",
    "                                                                             as_index=False)['fieldGoalsMade'].sum()\n",
    "        \n",
    "        vencedor = df_rename_winner.groupby(by=['gameId']).apply(lambda linha: linha.iloc[0,1] if linha.iloc[0,2] > linha.iloc[1,2] else linha.iloc[1,1])\n",
    "        vencedor.name = 'vencedor'\n",
    "        \n",
    "        dado_vencedor = df_rename_winner.join(vencedor, on='gameId')\n",
    "        \n",
    "        dados_raw = dado_vencedor.groupby('gameId').apply(lambda x: (x['teamName'], x['vencedor'].iloc[0], x['fieldGoalsMade']))\n",
    "\n",
    "        input_data = ['fieldGoalsMade', 'fieldGoalsAttempted', 'threePointersMade', 'threePointersAttempted', 'freeThrowsMade', 'freeThrowsAttempted',\n",
    "        'reboundsOffensive', 'reboundsDefensive', 'assists', 'steals', 'blocks', 'turnovers', 'foulsPersonal', 'points', 'Q']\n",
    "        \n",
    "        output_data = ['Result']\n",
    "\n",
    "        df_input = df_rename[['gameId', 'teamName'] + input_data].groupby(['gameId', 'teamName', 'Q']).sum().copy().reset_index()\n",
    "\n",
    "        df_input['resultado'] = df_input[['teamName', 'gameId']].apply(self.__arruma_q, args=(dado_vencedor,), axis=1)\n",
    "\n",
    "        return df_input\n",
    "\n",
    "    def __arruma_q(self, linha, dado_vencedor):\n",
    "        vencedor = dado_vencedor[['vencedor', 'gameId']].query('gameId == @linha[\"gameId\"]')['vencedor'].iloc[0]\n",
    "        if vencedor == linha['teamName']:\n",
    "            return 'W'\n",
    "        else:\n",
    "            return 'L'"
   ]
  },
  {
   "cell_type": "code",
   "execution_count": 31,
   "metadata": {},
   "outputs": [],
   "source": [
    "df_input = descobre_vencedor().transform(df_rename)"
   ]
  },
  {
   "cell_type": "code",
   "execution_count": 33,
   "metadata": {},
   "outputs": [],
   "source": [
    "df_input.to_csv('../data/processed/df_input.csv', index=False)"
   ]
  },
  {
   "cell_type": "markdown",
   "metadata": {},
   "source": [
    "# Modelo utilizando apenas o nome dos times ?"
   ]
  },
  {
   "cell_type": "code",
   "execution_count": 26,
   "metadata": {},
   "outputs": [],
   "source": [
    "from sklearn.linear_model import LogisticRegressionCV\n",
    "from sklearn.ensemble import RandomForestClassifier\n",
    "from sklearn.model_selection import train_test_split"
   ]
  },
  {
   "cell_type": "code",
   "execution_count": 27,
   "metadata": {},
   "outputs": [],
   "source": [
    "X = df_input.drop(['gameId', 'teamName', 'resultado'], axis=1)\n",
    "y = df_input['resultado']"
   ]
  },
  {
   "cell_type": "code",
   "execution_count": 28,
   "metadata": {},
   "outputs": [],
   "source": [
    "X_train, X_test, y_train, y_test = train_test_split(\n",
    "    X, y, test_size=0.33, random_state=42)"
   ]
  },
  {
   "cell_type": "code",
   "execution_count": 29,
   "metadata": {},
   "outputs": [
    {
     "data": {
      "text/plain": [
       "0.6394745938472174"
      ]
     },
     "execution_count": 29,
     "metadata": {},
     "output_type": "execute_result"
    }
   ],
   "source": [
    "clf = LogisticRegressionCV(cv=5, random_state=0, dual = False, max_iter=1000).fit(X_train, y_train)\n",
    "\n",
    "clf.score(X_test, y_test)"
   ]
  },
  {
   "cell_type": "code",
   "execution_count": 30,
   "metadata": {},
   "outputs": [
    {
     "data": {
      "text/plain": [
       "0.6156239198064293"
      ]
     },
     "execution_count": 30,
     "metadata": {},
     "output_type": "execute_result"
    }
   ],
   "source": [
    "rfc = RandomForestClassifier(random_state=0).fit(X_train, y_train)\n",
    "\n",
    "rfc.score(X_test, y_test)"
   ]
  },
  {
   "cell_type": "code",
   "execution_count": 31,
   "metadata": {},
   "outputs": [
    {
     "data": {
      "text/plain": [
       "Index(['Q', 'fieldGoalsMade', 'fieldGoalsAttempted', 'threePointersMade',\n",
       "       'threePointersAttempted', 'freeThrowsMade', 'freeThrowsAttempted',\n",
       "       'reboundsOffensive', 'reboundsDefensive', 'assists', 'steals', 'blocks',\n",
       "       'turnovers', 'foulsPersonal', 'points'],\n",
       "      dtype='object')"
      ]
     },
     "execution_count": 31,
     "metadata": {},
     "output_type": "execute_result"
    }
   ],
   "source": [
    "X.columns"
   ]
  },
  {
   "cell_type": "code",
   "execution_count": 32,
   "metadata": {},
   "outputs": [
    {
     "data": {
      "text/plain": [
       "'resultado'"
      ]
     },
     "execution_count": 32,
     "metadata": {},
     "output_type": "execute_result"
    }
   ],
   "source": [
    "y.name"
   ]
  },
  {
   "cell_type": "code",
   "execution_count": 33,
   "metadata": {},
   "outputs": [
    {
     "data": {
      "text/plain": [
       "1.0"
      ]
     },
     "execution_count": 33,
     "metadata": {},
     "output_type": "execute_result"
    }
   ],
   "source": [
    "rfc.score(X_train, y_train)"
   ]
  },
  {
   "cell_type": "code",
   "execution_count": 34,
   "metadata": {},
   "outputs": [
    {
     "data": {
      "text/plain": [
       "0.6156239198064293"
      ]
     },
     "execution_count": 34,
     "metadata": {},
     "output_type": "execute_result"
    }
   ],
   "source": [
    "rfc.score(X_test, y_test)"
   ]
  },
  {
   "cell_type": "code",
   "execution_count": 35,
   "metadata": {},
   "outputs": [
    {
     "data": {
      "text/plain": [
       "0.8731172980374259"
      ]
     },
     "execution_count": 35,
     "metadata": {},
     "output_type": "execute_result"
    }
   ],
   "source": [
    "rfc.score(X,\n",
    "          y)"
   ]
  },
  {
   "cell_type": "code",
   "execution_count": 36,
   "metadata": {},
   "outputs": [
    {
     "data": {
      "text/plain": [
       "0.8675925925925926"
      ]
     },
     "execution_count": 36,
     "metadata": {},
     "output_type": "execute_result"
    }
   ],
   "source": [
    "rfc.score(df_input.drop(['gameId', 'teamName', 'resultado'], axis=1).query('Q == 1'),\n",
    "          df_input.query('Q == 1')['resultado'])"
   ]
  },
  {
   "cell_type": "code",
   "execution_count": 37,
   "metadata": {},
   "outputs": [
    {
     "data": {
      "text/plain": [
       "0.8800925925925925"
      ]
     },
     "execution_count": 37,
     "metadata": {},
     "output_type": "execute_result"
    }
   ],
   "source": [
    "rfc.score(df_input.drop(['gameId', 'teamName', 'resultado'], axis=1).query('Q == 2'),\n",
    "          df_input.query('Q == 2')['resultado'])"
   ]
  },
  {
   "cell_type": "code",
   "execution_count": 38,
   "metadata": {},
   "outputs": [
    {
     "data": {
      "text/plain": [
       "0.8861111111111111"
      ]
     },
     "execution_count": 38,
     "metadata": {},
     "output_type": "execute_result"
    }
   ],
   "source": [
    "rfc.score(df_input.drop(['gameId', 'teamName', 'resultado'], axis=1).query('Q == 3'),\n",
    "          df_input.query('Q == 3')['resultado'])"
   ]
  },
  {
   "cell_type": "code",
   "execution_count": 39,
   "metadata": {},
   "outputs": [
    {
     "data": {
      "text/plain": [
       "0.8606481481481482"
      ]
     },
     "execution_count": 39,
     "metadata": {},
     "output_type": "execute_result"
    }
   ],
   "source": [
    "rfc.score(df_input.drop(['gameId', 'teamName', 'resultado'], axis=1).query('Q == 4'),\n",
    "          df_input.query('Q == 4')['resultado'])"
   ]
  },
  {
   "cell_type": "code",
   "execution_count": 40,
   "metadata": {},
   "outputs": [
    {
     "data": {
      "text/plain": [
       "{'Cs': 10,\n",
       " 'class_weight': None,\n",
       " 'cv': 5,\n",
       " 'dual': False,\n",
       " 'fit_intercept': True,\n",
       " 'intercept_scaling': 1.0,\n",
       " 'l1_ratios': None,\n",
       " 'max_iter': 1000,\n",
       " 'multi_class': 'auto',\n",
       " 'n_jobs': None,\n",
       " 'penalty': 'l2',\n",
       " 'random_state': 0,\n",
       " 'refit': True,\n",
       " 'scoring': None,\n",
       " 'solver': 'lbfgs',\n",
       " 'tol': 0.0001,\n",
       " 'verbose': 0}"
      ]
     },
     "execution_count": 40,
     "metadata": {},
     "output_type": "execute_result"
    }
   ],
   "source": [
    "hip_param = clf.get_params()\n",
    "hip_param"
   ]
  },
  {
   "cell_type": "code",
   "execution_count": 41,
   "metadata": {},
   "outputs": [],
   "source": [
    "model = LogisticRegressionCV(**hip_param).fit(X, y)"
   ]
  },
  {
   "cell_type": "code",
   "execution_count": 42,
   "metadata": {},
   "outputs": [],
   "source": [
    "import pickle"
   ]
  },
  {
   "cell_type": "code",
   "execution_count": 43,
   "metadata": {},
   "outputs": [],
   "source": [
    "filename = 'finalized_model.sav'\n",
    "pickle.dump(model, open('..\\models\\\\' + filename, 'wb'))"
   ]
  },
  {
   "cell_type": "code",
   "execution_count": 44,
   "metadata": {},
   "outputs": [
    {
     "data": {
      "text/plain": [
       "Index(['Q', 'fieldGoalsMade', 'fieldGoalsAttempted', 'threePointersMade',\n",
       "       'threePointersAttempted', 'freeThrowsMade', 'freeThrowsAttempted',\n",
       "       'reboundsOffensive', 'reboundsDefensive', 'assists', 'steals', 'blocks',\n",
       "       'turnovers', 'foulsPersonal', 'points'],\n",
       "      dtype='object')"
      ]
     },
     "execution_count": 44,
     "metadata": {},
     "output_type": "execute_result"
    }
   ],
   "source": [
    "X.columns"
   ]
  },
  {
   "cell_type": "code",
   "execution_count": 45,
   "metadata": {},
   "outputs": [
    {
     "data": {
      "text/plain": [
       "15"
      ]
     },
     "execution_count": 45,
     "metadata": {},
     "output_type": "execute_result"
    }
   ],
   "source": [
    "len(['Q', 'fieldGoalsMade', 'fieldGoalsAttempted', 'threePointersMade',\n",
    "'threePointersAttempted', 'freeThrowsMade', 'freeThrowsAttempted',\n",
    "'reboundsOffensive', 'reboundsDefensive', 'assists', 'steals', 'blocks',\n",
    "'turnovers', 'foulsPersonal', 'points'])"
   ]
  },
  {
   "cell_type": "code",
   "execution_count": 46,
   "metadata": {},
   "outputs": [],
   "source": [
    "# Q = int(input(\"1 - Está em qual quarto do Jogo ? (1, 2, 3, 4)\"))\n",
    "# fieldGoalsMade = int(input(\"2 - Quantos pontos seu time fez ? (1, 2, 3, 4)\"))\n",
    "# fieldGoalsAttempted = int(input(\"3 - Quantas tentativas de arremesso ? (1, 2, 3, 4)\"))\n",
    "# threePointersMade = int(input(\"4 - Quantos pontos de 3 ? (1, 2, 3, 4)\"))\n",
    "# threePointersAttempted = int(input(\"5 - Quantas tentativas de 3 ? (1, 2, 3, 4)\"))\n",
    "# freeThrowsMade = int(input(\"6 - Quantos arremessos livres ? (1, 2, 3, 4)\"))\n",
    "# freeThrowsAttempted = int(input(\"7 - Quantos tentativas de arremessos livre ? (1, 2, 3, 4)\"))\n",
    "# reboundsOffensive = int(input(\"8 - Quantos rebotes ofensivos ? (1, 2, 3, 4)\"))\n",
    "# reboundsDefensive = int(input(\"9 - Quantos rebotes defencivos ? (1, 2, 3, 4)\"))\n",
    "# assists = int(input(\"10 - Total de assistencias  ? (1, 2, 3, 4)\"))\n",
    "# steals = int(input(\"11 - Total de roubos de bola ? (1, 2, 3, 4)\"))\n",
    "# blocks = int(input(\"12 - Total de bloqueios ? (1, 2, 3, 4)\"))\n",
    "# turnovers = int(input(\"13 - Total de perda de bolas ? (1, 2, 3, 4)\"))\n",
    "# foulsPersonal = int(input(\"14 - Quantidade de faltas ? (1, 2, 3, 4)\"))\n",
    "# points = int(input(\"15 - Quantidade de pontos ? (1, 2, 3, 4)\"))"
   ]
  },
  {
   "cell_type": "code",
   "execution_count": 47,
   "metadata": {},
   "outputs": [],
   "source": [
    "# dict_entrada = {'Q' : \"1 - Está em qual quarto do Jogo ? (1, 2, 3, 4)\",\n",
    "# 'fieldGoalsMade' : \"2 - Quantos pontos seu time fez ?\",\n",
    "# 'fieldGoalsAttempted' : \"3 - Quantas tentativas de arremesso ?\",\n",
    "# 'threePointersMade' : \"4 - Quantos pontos de 3 ?\",\n",
    "# 'threePointersAttempted' : \"5 - Quantas tentativas de 3 ?\",\n",
    "# 'freeThrowsMade' : \"6 - Quantos arremessos livres ?\",\n",
    "# 'freeThrowsAttempted' : \"7 - Quantos tentativas de arremessos livre ?\",\n",
    "# 'reboundsOffensive' : \"8 - Quantos rebotes ofensivos ?\",\n",
    "# 'reboundsDefensive' : \"9 - Quantos rebotes defencivos ?\",\n",
    "# 'assists' : \"10 - Total de assistencias  ?\",\n",
    "# 'steals' : \"11 - Total de roubos de bola ?\",\n",
    "# 'blocks' : \"12 - Total de bloqueios ?\",\n",
    "# 'turnovers' : \"13 - Total de perda de bolas ?\",\n",
    "# 'foulsPersonal' : \"14 - Quantidade de faltas ?\",\n",
    "# 'points' : \"15 - Quantidade de pontos ?\"}\n",
    "# dict_dados = {}"
   ]
  },
  {
   "cell_type": "code",
   "execution_count": 48,
   "metadata": {},
   "outputs": [],
   "source": [
    "# for chave, valor in dict_entrada.items():\n",
    "#     dict_dados[chave] = [int(input(valor))]\n",
    "#     print(valor)\n",
    "#     print(dict_dados[chave])\n",
    "# df_entrada = pd.DataFrame(data=dict_dados)\n",
    "\n",
    "# if rfc.predict(df_entrada)[0] == 'L':\n",
    "#     print(\"Setu time vai perder\")\n",
    "# else:\n",
    "#     print(\"Seu time vai vencer\")"
   ]
  }
 ],
 "metadata": {
  "interpreter": {
   "hash": "1a4b34fe81f36c3f6b6443b8e584eb4b78b4f95651408780582bbfdee139a806"
  },
  "kernelspec": {
   "display_name": "venv",
   "language": "python",
   "name": "venv"
  },
  "language_info": {
   "codemirror_mode": {
    "name": "ipython",
    "version": 3
   },
   "file_extension": ".py",
   "mimetype": "text/x-python",
   "name": "python",
   "nbconvert_exporter": "python",
   "pygments_lexer": "ipython3",
   "version": "3.8.10"
  }
 },
 "nbformat": 4,
 "nbformat_minor": 2
}
